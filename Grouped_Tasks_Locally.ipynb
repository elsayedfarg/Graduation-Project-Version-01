{
  "cells": [
    {
      "cell_type": "code",
      "execution_count": null,
      "metadata": {
        "id": "gAZDiUCx_UKZ"
      },
      "outputs": [],
      "source": [
        "import cv2\n",
        "import numpy as np\n",
        "from PIL import Image\n",
        "import time\n",
        "import os\n",
        "import torch\n",
        "from transformers import BlipProcessor, BlipForConditionalGeneration\n",
        "\n",
        "\n",
        "def capture_multiple_images(num_frames=20, interval=2):\n",
        "    cap = cv2.VideoCapture(0)  # 0 is typically the default webcam\n",
        "\n",
        "    if not cap.isOpened():\n",
        "        print(\"Error: Could not open webcam.\")\n",
        "        return []\n",
        "\n",
        "    print(\"Capturing images... Press 'q' to quit early.\")\n",
        "    captured_images = []\n",
        "    frame_count = 0\n",
        "\n",
        "    while frame_count < num_frames:\n",
        "        ret, frame = cap.read()\n",
        "        if not ret:\n",
        "            print(\"Failed to capture frame\")\n",
        "            break\n",
        "\n",
        "        # Convert BGR (OpenCV format) to RGB (PIL format)\n",
        "        rgb_frame = cv2.cvtColor(frame, cv2.COLOR_BGR2RGB)\n",
        "        pil_img = Image.fromarray(rgb_frame)\n",
        "        captured_images.append(pil_img)\n",
        "\n",
        "        frame_count += 1\n",
        "        print(f\"Captured frame {frame_count}/{num_frames}\")\n",
        "        time.sleep(interval)\n",
        "\n",
        "    cap.release()\n",
        "    cv2.destroyAllWindows()\n",
        "\n",
        "    return captured_images"
      ]
    },
    {
      "cell_type": "code",
      "execution_count": null,
      "metadata": {
        "id": "rh8BRwMWAQ6x"
      },
      "outputs": [],
      "source": [
        "# === 2. Automatically capture, resize, and save frames ===\n",
        "frames = []\n",
        "interval = 2  # seconds between frames\n",
        "num_frames_to_capture = 20\n",
        "resize_shape = (224, 224)\n",
        "save_dir = \"captured_frames\"\n",
        "\n",
        "# Create directory if it doesn't exist\n",
        "os.makedirs(save_dir, exist_ok=True)\n",
        "\n",
        "print(\"\\nStarting automatic frame capture from webcam...\\n\")\n",
        "\n",
        "# Capture images\n",
        "captured_images = capture_multiple_images(num_frames=num_frames_to_capture, interval=interval)\n",
        "\n",
        "# Process and save frames\n",
        "for i, captured_image in enumerate(captured_images):\n",
        "    print(f\"Processing frame {i+1}/{num_frames_to_capture}\")\n",
        "\n",
        "    # Convert to OpenCV format (BGR)\n",
        "    frame = cv2.cvtColor(np.array(captured_image), cv2.COLOR_RGB2BGR)\n",
        "\n",
        "    # Resize the frame\n",
        "    frame_resized = cv2.resize(frame, resize_shape)\n",
        "\n",
        "    # Store in list\n",
        "    frames.append(frame_resized)\n",
        "\n",
        "    # Save to disk\n",
        "    save_path = os.path.join(save_dir, f\"frame_{i}.jpg\")\n",
        "    cv2.imwrite(save_path, frame_resized)\n",
        "    print(f\"Saved: {save_path}\")\n",
        "\n",
        "print(\"\\n✅ Finished capturing and saving frames!\")\n",
        "\n",
        "# Print summary\n",
        "print(f\"\\nTotal Frames Captured: {len(frames)}\")\n",
        "for i, f in enumerate(frames):\n",
        "    print(f\"Frame {i} shape: {f.shape}\")"
      ]
    },
    {
      "cell_type": "code",
      "execution_count": null,
      "metadata": {
        "id": "U0VC2_11And7"
      },
      "outputs": [],
      "source": [
        "from transformers import BlipProcessor, BlipForConditionalGeneration\n",
        "import torch\n",
        "\n",
        "# Set the device (CUDA for GPU, CPU if no GPU is available)\n",
        "device = \"cuda\" if torch.cuda.is_available() else \"cpu\"\n",
        "print(f\"\\nUsing device: {device}\")\n",
        "\n",
        "# Load the processor and model for BLIP-2 locally\n",
        "processor = BlipProcessor.from_pretrained(\"Salesforce/blip2-opt-2.7b\")\n",
        "model = BlipForConditionalGeneration.from_pretrained(\n",
        "    \"Salesforce/blip2-opt-2.7b\"\n",
        ").to(device)  # Move model to the appropriate device (GPU or CPU)"
      ]
    },
    {
      "cell_type": "code",
      "execution_count": null,
      "metadata": {
        "id": "TFVlvuY8BM9i"
      },
      "outputs": [],
      "source": [
        "import torch\n",
        "from PIL import Image\n",
        "import cv2\n",
        "from transformers import BlipProcessor, BlipForConditionalGeneration\n",
        "\n",
        "# Assuming `frames` is the list of captured frames from the previous steps\n",
        "# `captions` will store the generated captions\n",
        "\n",
        "captions = []  # Store all predicted captions here\n",
        "\n",
        "print(\"\\nMaking predictions on captured frames...\\n\")\n",
        "\n",
        "for idx, frame in enumerate(frames):\n",
        "    # Convert OpenCV BGR to PIL RGB\n",
        "    frame_rgb = cv2.cvtColor(frame, cv2.COLOR_BGR2RGB)\n",
        "    pil_image = Image.fromarray(frame_rgb)\n",
        "\n",
        "    # Preprocess input for the model\n",
        "    inputs = processor(images=pil_image, return_tensors=\"pt\").to(device)\n",
        "\n",
        "    # Generate caption\n",
        "    generated_ids = model.generate(**inputs)\n",
        "    generated_text = processor.batch_decode(generated_ids, skip_special_tokens=True)[0].strip()\n",
        "\n",
        "    captions.append(generated_text)  # Save the caption\n",
        "\n",
        "    print(f\"Prediction for Frame {idx}: {generated_text}\")\n",
        "\n",
        "print(\"\\nAll done!\")"
      ]
    }
  ],
  "metadata": {
    "colab": {
      "provenance": []
    },
    "kernelspec": {
      "display_name": "Python 3",
      "name": "python3"
    },
    "language_info": {
      "name": "python"
    }
  },
  "nbformat": 4,
  "nbformat_minor": 0
}
